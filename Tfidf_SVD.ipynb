{
 "cells": [
  {
   "cell_type": "markdown",
   "metadata": {},
   "source": [
    "TP réalisé par :\n",
    "- Angéline MARC\n",
    "- Thomas HUGUENEL"
   ]
  },
  {
   "cell_type": "code",
   "execution_count": 25,
   "metadata": {},
   "outputs": [
    {
     "name": "stdout",
     "output_type": "stream",
     "text": [
      "The autoreload extension is already loaded. To reload it, use:\n",
      "  %reload_ext autoreload\n"
     ]
    },
    {
     "data": {
      "text/plain": [
       "<module 'utilsfunction' from 'c:\\\\Users\\\\runhi\\\\Desktop\\\\TAA_TP2\\\\utilsfunction.py'>"
      ]
     },
     "execution_count": 25,
     "metadata": {},
     "output_type": "execute_result"
    }
   ],
   "source": [
    "import numpy as np \n",
    "np.set_printoptions(threshold=10000, suppress = True) \n",
    "import pandas as pd \n",
    "import warnings \n",
    "import matplotlib.pyplot as plt \n",
    "warnings.filterwarnings('ignore')\n",
    "\n",
    "from utilsfunction import *\n",
    "\n",
    "%load_ext autoreload\n",
    "%autoreload 2\n",
    "import importlib, utilsfunction\n",
    "importlib.reload(utilsfunction)"
   ]
  },
  {
   "cell_type": "code",
   "execution_count": 14,
   "metadata": {},
   "outputs": [
    {
     "data": {
      "text/html": [
       "<div>\n",
       "<style scoped>\n",
       "    .dataframe tbody tr th:only-of-type {\n",
       "        vertical-align: middle;\n",
       "    }\n",
       "\n",
       "    .dataframe tbody tr th {\n",
       "        vertical-align: top;\n",
       "    }\n",
       "\n",
       "    .dataframe thead th {\n",
       "        text-align: right;\n",
       "    }\n",
       "</style>\n",
       "<table border=\"1\" class=\"dataframe\">\n",
       "  <thead>\n",
       "    <tr style=\"text-align: right;\">\n",
       "      <th></th>\n",
       "      <th>Title</th>\n",
       "      <th>abstractText</th>\n",
       "      <th>meshMajor</th>\n",
       "      <th>pmid</th>\n",
       "      <th>meshid</th>\n",
       "      <th>meshroot</th>\n",
       "      <th>A</th>\n",
       "      <th>B</th>\n",
       "      <th>C</th>\n",
       "      <th>D</th>\n",
       "      <th>E</th>\n",
       "      <th>F</th>\n",
       "      <th>G</th>\n",
       "      <th>H</th>\n",
       "      <th>I</th>\n",
       "      <th>J</th>\n",
       "      <th>L</th>\n",
       "      <th>M</th>\n",
       "      <th>N</th>\n",
       "      <th>Z</th>\n",
       "    </tr>\n",
       "  </thead>\n",
       "  <tbody>\n",
       "    <tr>\n",
       "      <th>0</th>\n",
       "      <td>Expression of p53 and coexistence of HPV in pr...</td>\n",
       "      <td>Fifty-four paraffin embedded tissue sections f...</td>\n",
       "      <td>['DNA Probes, HPV', 'DNA, Viral', 'Female', 'H...</td>\n",
       "      <td>8549602</td>\n",
       "      <td>[['D13.444.600.223.555', 'D27.505.259.750.600....</td>\n",
       "      <td>['Chemicals and Drugs [D]', 'Organisms [B]', '...</td>\n",
       "      <td>0</td>\n",
       "      <td>1</td>\n",
       "      <td>1</td>\n",
       "      <td>1</td>\n",
       "      <td>1</td>\n",
       "      <td>0</td>\n",
       "      <td>0</td>\n",
       "      <td>1</td>\n",
       "      <td>0</td>\n",
       "      <td>0</td>\n",
       "      <td>0</td>\n",
       "      <td>0</td>\n",
       "      <td>0</td>\n",
       "      <td>0</td>\n",
       "    </tr>\n",
       "    <tr>\n",
       "      <th>1</th>\n",
       "      <td>Vitamin D status in pregnant Indian women acro...</td>\n",
       "      <td>The present cross-sectional study was conducte...</td>\n",
       "      <td>['Adult', 'Alkaline Phosphatase', 'Breast Feed...</td>\n",
       "      <td>21736816</td>\n",
       "      <td>[['M01.060.116'], ['D08.811.277.352.650.035'],...</td>\n",
       "      <td>['Named Groups [M]', 'Chemicals and Drugs [D]'...</td>\n",
       "      <td>0</td>\n",
       "      <td>1</td>\n",
       "      <td>1</td>\n",
       "      <td>1</td>\n",
       "      <td>1</td>\n",
       "      <td>1</td>\n",
       "      <td>1</td>\n",
       "      <td>0</td>\n",
       "      <td>1</td>\n",
       "      <td>1</td>\n",
       "      <td>0</td>\n",
       "      <td>1</td>\n",
       "      <td>1</td>\n",
       "      <td>1</td>\n",
       "    </tr>\n",
       "    <tr>\n",
       "      <th>2</th>\n",
       "      <td>[Identification of a functionally important di...</td>\n",
       "      <td>The occurrence of individual amino acids and d...</td>\n",
       "      <td>['Amino Acid Sequence', 'Analgesics, Opioid', ...</td>\n",
       "      <td>19060934</td>\n",
       "      <td>[['G02.111.570.060', 'L01.453.245.667.060'], [...</td>\n",
       "      <td>['Phenomena and Processes [G]', 'Information S...</td>\n",
       "      <td>1</td>\n",
       "      <td>1</td>\n",
       "      <td>0</td>\n",
       "      <td>1</td>\n",
       "      <td>1</td>\n",
       "      <td>0</td>\n",
       "      <td>1</td>\n",
       "      <td>0</td>\n",
       "      <td>0</td>\n",
       "      <td>0</td>\n",
       "      <td>1</td>\n",
       "      <td>0</td>\n",
       "      <td>0</td>\n",
       "      <td>0</td>\n",
       "    </tr>\n",
       "  </tbody>\n",
       "</table>\n",
       "</div>"
      ],
      "text/plain": [
       "                                               Title  \\\n",
       "0  Expression of p53 and coexistence of HPV in pr...   \n",
       "1  Vitamin D status in pregnant Indian women acro...   \n",
       "2  [Identification of a functionally important di...   \n",
       "\n",
       "                                        abstractText  \\\n",
       "0  Fifty-four paraffin embedded tissue sections f...   \n",
       "1  The present cross-sectional study was conducte...   \n",
       "2  The occurrence of individual amino acids and d...   \n",
       "\n",
       "                                           meshMajor      pmid  \\\n",
       "0  ['DNA Probes, HPV', 'DNA, Viral', 'Female', 'H...   8549602   \n",
       "1  ['Adult', 'Alkaline Phosphatase', 'Breast Feed...  21736816   \n",
       "2  ['Amino Acid Sequence', 'Analgesics, Opioid', ...  19060934   \n",
       "\n",
       "                                              meshid  \\\n",
       "0  [['D13.444.600.223.555', 'D27.505.259.750.600....   \n",
       "1  [['M01.060.116'], ['D08.811.277.352.650.035'],...   \n",
       "2  [['G02.111.570.060', 'L01.453.245.667.060'], [...   \n",
       "\n",
       "                                            meshroot  A  B  C  D  E  F  G  H  \\\n",
       "0  ['Chemicals and Drugs [D]', 'Organisms [B]', '...  0  1  1  1  1  0  0  1   \n",
       "1  ['Named Groups [M]', 'Chemicals and Drugs [D]'...  0  1  1  1  1  1  1  0   \n",
       "2  ['Phenomena and Processes [G]', 'Information S...  1  1  0  1  1  0  1  0   \n",
       "\n",
       "   I  J  L  M  N  Z  \n",
       "0  0  0  0  0  0  0  \n",
       "1  1  1  0  1  1  1  \n",
       "2  0  0  1  0  0  0  "
      ]
     },
     "execution_count": 14,
     "metadata": {},
     "output_type": "execute_result"
    }
   ],
   "source": [
    "data = pd.read_csv('PubMed-multi-label-dataset.csv', sep=\",\")\n",
    "data.head(3)"
   ]
  },
  {
   "cell_type": "markdown",
   "metadata": {},
   "source": [
    "## Nettoyage des données"
   ]
  },
  {
   "cell_type": "code",
   "execution_count": 19,
   "metadata": {},
   "outputs": [
    {
     "data": {
      "text/html": [
       "<div>\n",
       "<style scoped>\n",
       "    .dataframe tbody tr th:only-of-type {\n",
       "        vertical-align: middle;\n",
       "    }\n",
       "\n",
       "    .dataframe tbody tr th {\n",
       "        vertical-align: top;\n",
       "    }\n",
       "\n",
       "    .dataframe thead th {\n",
       "        text-align: right;\n",
       "    }\n",
       "</style>\n",
       "<table border=\"1\" class=\"dataframe\">\n",
       "  <thead>\n",
       "    <tr style=\"text-align: right;\">\n",
       "      <th></th>\n",
       "      <th>abstractText</th>\n",
       "      <th>A</th>\n",
       "      <th>B</th>\n",
       "      <th>C</th>\n",
       "      <th>D</th>\n",
       "      <th>E</th>\n",
       "      <th>F</th>\n",
       "      <th>G</th>\n",
       "      <th>H</th>\n",
       "      <th>I</th>\n",
       "      <th>J</th>\n",
       "      <th>L</th>\n",
       "      <th>M</th>\n",
       "      <th>N</th>\n",
       "      <th>Z</th>\n",
       "    </tr>\n",
       "  </thead>\n",
       "  <tbody>\n",
       "    <tr>\n",
       "      <th>0</th>\n",
       "      <td>fiftyfour paraffin embedded tissue sections pa...</td>\n",
       "      <td>0</td>\n",
       "      <td>1</td>\n",
       "      <td>1</td>\n",
       "      <td>1</td>\n",
       "      <td>1</td>\n",
       "      <td>0</td>\n",
       "      <td>0</td>\n",
       "      <td>1</td>\n",
       "      <td>0</td>\n",
       "      <td>0</td>\n",
       "      <td>0</td>\n",
       "      <td>0</td>\n",
       "      <td>0</td>\n",
       "      <td>0</td>\n",
       "    </tr>\n",
       "    <tr>\n",
       "      <th>1</th>\n",
       "      <td>the present crosssectional study conducted det...</td>\n",
       "      <td>0</td>\n",
       "      <td>1</td>\n",
       "      <td>1</td>\n",
       "      <td>1</td>\n",
       "      <td>1</td>\n",
       "      <td>1</td>\n",
       "      <td>1</td>\n",
       "      <td>0</td>\n",
       "      <td>1</td>\n",
       "      <td>1</td>\n",
       "      <td>0</td>\n",
       "      <td>1</td>\n",
       "      <td>1</td>\n",
       "      <td>1</td>\n",
       "    </tr>\n",
       "    <tr>\n",
       "      <th>2</th>\n",
       "      <td>the occurrence individual amino acids dipeptid...</td>\n",
       "      <td>1</td>\n",
       "      <td>1</td>\n",
       "      <td>0</td>\n",
       "      <td>1</td>\n",
       "      <td>1</td>\n",
       "      <td>0</td>\n",
       "      <td>1</td>\n",
       "      <td>0</td>\n",
       "      <td>0</td>\n",
       "      <td>0</td>\n",
       "      <td>1</td>\n",
       "      <td>0</td>\n",
       "      <td>0</td>\n",
       "      <td>0</td>\n",
       "    </tr>\n",
       "  </tbody>\n",
       "</table>\n",
       "</div>"
      ],
      "text/plain": [
       "                                        abstractText  A  B  C  D  E  F  G  H  \\\n",
       "0  fiftyfour paraffin embedded tissue sections pa...  0  1  1  1  1  0  0  1   \n",
       "1  the present crosssectional study conducted det...  0  1  1  1  1  1  1  0   \n",
       "2  the occurrence individual amino acids dipeptid...  1  1  0  1  1  0  1  0   \n",
       "\n",
       "   I  J  L  M  N  Z  \n",
       "0  0  0  0  0  0  0  \n",
       "1  1  1  0  1  1  1  \n",
       "2  0  0  1  0  0  0  "
      ]
     },
     "execution_count": 19,
     "metadata": {},
     "output_type": "execute_result"
    }
   ],
   "source": [
    "data = prepare_data(data)\n",
    "data.head(3)\n"
   ]
  },
  {
   "cell_type": "code",
   "execution_count": 21,
   "metadata": {},
   "outputs": [
    {
     "name": "stdout",
     "output_type": "stream",
     "text": [
      "(25000,) (25000,) (25000, 14) (25000, 14)\n"
     ]
    }
   ],
   "source": [
    "# Séparation des données en données d'entrainement et de test 50-50\n",
    "X_train, X_test, y_train, y_test = split_data(data)\n",
    "print(X_train.shape, X_test.shape, y_train.shape, y_test.shape)"
   ]
  },
  {
   "cell_type": "code",
   "execution_count": 22,
   "metadata": {},
   "outputs": [],
   "source": [
    "#TF-IDF\n",
    "X_train_tfidf, X_test_tfidf, vectorizer = tfidf_vectorizer(X_train, X_test)"
   ]
  },
  {
   "cell_type": "code",
   "execution_count": 14,
   "metadata": {},
   "outputs": [
    {
     "name": "stdout",
     "output_type": "stream",
     "text": [
      "{'model': 'Classifier Chain + Random Forest', 'F1 Score (micro)': 0.8244803122553863, 'F1 Score (macro)': 0.6462110550075353, 'Zero-One Loss': 0.87004}\n",
      "{'model': 'Classifier Chain + MLP', 'F1 Score (micro)': 0.8085315751925016, 'F1 Score (macro)': 0.6963527663534999, 'Zero-One Loss': 0.88664}\n",
      "{'model': 'Classifier Chain + KNN', 'F1 Score (micro)': 0.7724249865623979, 'F1 Score (macro)': 0.6233706323311827, 'Zero-One Loss': 0.91776}\n",
      "{'model': 'Multi Output Classifier + Random Forest', 'F1 Score (micro)': 0.8244920233311362, 'F1 Score (macro)': 0.6457706634712633, 'Zero-One Loss': 0.87088}\n",
      "{'model': 'Multi Output Classifier + MLP', 'F1 Score (micro)': 0.8105228386081065, 'F1 Score (macro)': 0.696458492330284, 'Zero-One Loss': 0.88752}\n",
      "{'model': 'Multi Output Classifier + KNN', 'F1 Score (micro)': 0.7781751990254129, 'F1 Score (macro)': 0.6292545395952757, 'Zero-One Loss': 0.92244}\n"
     ]
    }
   ],
   "source": [
    "# Evaluation des modèles sur les données\n",
    "evaluations = run_models(X_train_tfidf, y_train, X_test_tfidf, y_test)"
   ]
  },
  {
   "cell_type": "markdown",
   "metadata": {},
   "source": [
    "```python\n",
    "{'model': 'Classifier Chain + Random Forest', 'F1 Score (micro)': 0.8244803122553863, 'F1 Score (macro)': 0.6462110550075353, 'Zero-One Loss': 0.87004}\n",
    "{'model': 'Classifier Chain + MLP', 'F1 Score (micro)': 0.8085315751925016, 'F1 Score (macro)': 0.6963527663534999, 'Zero-One Loss': 0.88664}\n",
    "{'model': 'Classifier Chain + KNN', 'F1 Score (micro)': 0.7724249865623979, 'F1 Score (macro)': 0.6233706323311827, 'Zero-One Loss': 0.91776}\n",
    "{'model': 'Multi Output Classifier + Random Forest', 'F1 Score (micro)': 0.8244920233311362, 'F1 Score (macro)': 0.6457706634712633, 'Zero-One Loss': 0.87088}\n",
    "{'model': 'Multi Output Classifier + MLP', 'F1 Score (micro)': 0.8105228386081065, 'F1 Score (macro)': 0.696458492330284, 'Zero-One Loss': 0.88752}\n",
    "{'model': 'Multi Output Classifier + KNN', 'F1 Score (micro)': 0.7781751990254129, 'F1 Score (macro)': 0.6292545395952757, 'Zero-One Loss': 0.92244}\n",
    "```"
   ]
  },
  {
   "cell_type": "markdown",
   "metadata": {},
   "source": [
    "## SVD"
   ]
  },
  {
   "cell_type": "code",
   "execution_count": 26,
   "metadata": {},
   "outputs": [],
   "source": [
    "X_train_svd, X_test_svd, SVD = svd(X_train_tfidf, X_test_tfidf, 100)"
   ]
  },
  {
   "cell_type": "code",
   "execution_count": 27,
   "metadata": {},
   "outputs": [
    {
     "name": "stdout",
     "output_type": "stream",
     "text": [
      "Concept #0: patients the cells group study treatment in we cell cancer\n",
      "Concept #1: patients years group risk age months 95 ci patient care\n",
      "Concept #2: patients cells cell cancer tumor expression survival treatment therapy tumors\n",
      "Concept #3: cancer health cells care cell breast expression tumor risk gene\n",
      "Concept #4: women cells ci 95 cancer risk group levels health age\n",
      "Concept #5: cells health care treatment cell patient group pain medical mice\n",
      "Concept #6: patients health gene expression protein genes care group levels dna\n",
      "Concept #7: cancer group breast treatment tumor patients groups survival prostate health\n",
      "Concept #8: group expression gene children genes cases groups rats case mice\n",
      "Concept #9: group cells children groups dna cell the method bone 95\n",
      "Concept #10: children treatment cases infection acid serum virus liver hiv activity\n",
      "Concept #11: health group care blood artery coronary pressure protein pulmonary dna\n",
      "Concept #12: blood insulin glucose serum levels samples plasma method subjects women\n",
      "Concept #13: protein binding women children insulin age proteins years glucose patients\n",
      "Concept #14: children years expression age gene genes survival months mean rate\n",
      "Concept #15: insulin bone glucose treatment ci women 95 gene diabetes surgery\n",
      "Concept #16: women bone pain pregnancy men breast dna activity weeks pregnant\n",
      "Concept #17: treatment women insulin pain dna blood glucose therapy children pressure\n",
      "Concept #18: dna rats insulin cases neurons glucose activity species cancer strains\n",
      "Concept #19: pain ci 95 dna acid activity gene symptoms or health\n",
      "Concept #20: dna binding tumor health ci bone rna 95 mice children\n",
      "Concept #21: bone dna disease activity species risk coronary marrow renal treatment\n",
      "Concept #22: bone cancer pain children infection mice breast lung insulin virus\n",
      "Concept #23: health tumor bone exercise cases hiv mm activity tumors receptor\n",
      "Concept #24: pain dna cell tumor exercise infection mice surgery protein liver\n",
      "Concept #25: cases blood pressure bone renal dna binding flow treatment cancer\n",
      "Concept #26: dna children cases levels cell expression women bone stress coronary\n",
      "Concept #27: activity blood bone tumor pressure liver compounds enzyme children students\n",
      "Concept #28: pain health mice tumor women children blood binding model tumors\n",
      "Concept #29: lung care mice pulmonary infants cell patients pregnancy ci growth\n",
      "Concept #30: binding mice receptor cases cells receptors coronary students levels nursing\n",
      "Concept #31: lung renal activity disease pulmonary pain method the kidney gene\n",
      "Concept #32: mice cases treatment acid blood protein health dna method brain\n",
      "Concept #33: cell rats protein hiv proteins bone brain lines infection growth\n",
      "Concept #34: serum levels cell health activity disease plasma treatment neurons visual\n",
      "Concept #35: mice cell cases pain acid exercise renal disease coronary women\n",
      "Concept #36: acid hiv renal amino mice acids symptoms depression fatty gene\n",
      "Concept #37: renal strains stress protein species mice health proteins mental ci\n",
      "Concept #38: cell mice liver patients hiv skin cases weight lines body\n",
      "Concept #39: cases pain liver bone dose health levels serum lung data\n",
      "Concept #40: lung acid pulmonary rats muscle use amino dna training exercise\n",
      "Concept #41: liver strains imaging isolates care species treatment calcium resistance ct\n",
      "Concept #42: muscle method exercise symptoms depression sleep infants mutations syndrome we\n",
      "Concept #43: liver cell species acid receptor binding treatment skin human alpha\n",
      "Concept #44: cell risk exercise liver gene mortality training brain lung injury\n",
      "Concept #45: exercise binding brain species expression water muscle mortality compounds treatment\n",
      "Concept #46: renal infants risk cases muscle binding milk growth breast mothers\n",
      "Concept #47: cases levels treatment model tumor injury the serum care acid\n",
      "Concept #48: model hiv species artery muscle flow coronary blood skin models\n",
      "Concept #49: sleep species alpha protein growth renal rna use mice human\n",
      "Concept #50: sleep disease gastric plasma surgery hiv rats membrane binding women\n",
      "Concept #51: hiv plasma lung treatment activity membrane mice ca2 survival students\n",
      "Concept #52: care sleep exercise artery coronary method liver patient lung water\n",
      "Concept #53: sleep stress cell virus vitamin disease response genes symptoms rna\n",
      "Concept #54: growth model serum disease artery mice strains clinical hiv sleep\n",
      "Concept #55: breast hiv stress sleep months species mm age infants method\n",
      "Concept #56: exercise disease tumor mortality plasma virus rats species growth treatment\n",
      "Concept #57: breast plasma sleep mortality platelet alpha skin stress milk receptor\n",
      "Concept #58: breast model plasma disease virus human calcium stroke tissue brain\n",
      "Concept #59: age infants sleep calcium platelet imaging years release serum tissue\n",
      "Concept #60: plasma exercise risk factors infection model growth factor ct platelet\n",
      "Concept #61: risk muscle species mice sleep factors expression hiv serum calcium\n",
      "Concept #62: hiv disease alpha care drug therapy depression liver body strains\n",
      "Concept #63: skin plasma calcium stroke acute rats species rna lesions pressure\n",
      "Concept #64: the vitamin stress injury rna plasma subjects rate platelet binding\n",
      "Concept #65: rna skin exercise calcium effects drug survival hcv lesions breast\n",
      "Concept #66: skin liver hiv treatment human infants gastric proteins alpha stress\n",
      "Concept #67: alpha breast beta the exercise syndrome gastric infection stroke eyes\n",
      "Concept #68: neurons diabetes type breast use milk expression binding model clinical\n",
      "Concept #69: gastric strains mm method stroke therapy breast pressure tissue vaccine\n",
      "Concept #70: therapy infection vitamin gastric mortality skin students tissue species mg\n",
      "Concept #71: gastric degrees hcv use platelet vitamin breast insulin ph serum\n",
      "Concept #72: species rate infants use injury glucose platelet diet months vaccine\n",
      "Concept #73: quality levels asthma infants months infection water life the cell\n",
      "Concept #74: gastric membrane human exposure quality species injury plasma drug visual\n",
      "Concept #75: vitamin water skin platelet the alpha diagnosis rna gastric receptor\n",
      "Concept #76: therapy alpha beta vs prostate information vitamin patient clinical exposure\n",
      "Concept #77: skin vitamin degrees expression calcium injury dose fracture lung rate\n",
      "Concept #78: drug use stroke the species human virus platelet degrees survival\n",
      "Concept #79: ph pulmonary students syndrome lesions levels we tumors nursing months\n",
      "Concept #80: gene infection type water species imaging surgery diabetes protein therapy\n",
      "Concept #81: water mm model stress disease tumor levels visual transplantation heart\n",
      "Concept #82: exposure neurons mm asthma mortality platelet degrees plasma exercise concentrations\n",
      "Concept #83: exposure gastric ph thyroid strains lesions medical asthma glucose iron\n",
      "Concept #84: stroke alcohol effects glucose ct lung lesions social sexual strains\n",
      "Concept #85: platelet thyroid carcinoma type surgery calcium injury glucose platelets water\n",
      "Concept #86: asthma prostate therapy ii acute pressure brain oral injury stage\n",
      "Concept #87: clinical alcohol response water age alpha calcium dental membrane vitamin\n",
      "Concept #88: mm memory gastric cognitive receptor syndrome the aortic milk days\n",
      "Concept #89: subjects clinical symptoms exposure stroke mutations research left weight release\n",
      "Concept #90: training neurons insulin urinary syndrome infection gene stress pressure clinical\n",
      "Concept #91: method nerve training platelet mm depression calcium alpha lesions care\n",
      "Concept #92: calcium levels gastric infants pulmonary receptor ct hiv type mortality\n",
      "Concept #93: months glucose vitamin skin response drug acute ct chronic showed\n",
      "Concept #94: medical rna stroke syndrome water fracture therapy isolates response fractures\n",
      "Concept #95: calcium rate cognitive asthma months nerve changes stress function new\n",
      "Concept #96: brain degrees flow mm heart months subjects rate insulin mitochondrial\n",
      "Concept #97: response mortality asthma alcohol brain quality clinical syndrome release smoking\n",
      "Concept #98: calcium pulmonary nerve quality drug life gastric males in students\n",
      "Concept #99: membrane ii response case stroke exposure disease injury control social\n",
      "\n"
     ]
    }
   ],
   "source": [
    "print_top_words(SVD, vectorizer.get_feature_names_out(), 10) # pour afficher les 10 mots les plus pertinents par concept "
   ]
  },
  {
   "cell_type": "code",
   "execution_count": 19,
   "metadata": {},
   "outputs": [
    {
     "name": "stdout",
     "output_type": "stream",
     "text": [
      "{'model': 'Classifier Chain + Random Forest', 'F1 Score (micro)': 0.814969172270081, 'F1 Score (macro)': 0.6293764324843805, 'Zero-One Loss': 0.87724}\n",
      "{'model': 'Classifier Chain + MLP', 'F1 Score (micro)': 0.7758129960334826, 'F1 Score (macro)': 0.6560806376044893, 'Zero-One Loss': 0.92136}\n",
      "{'model': 'Classifier Chain + KNN', 'F1 Score (micro)': 0.7749726851330897, 'F1 Score (macro)': 0.6307600888876275, 'Zero-One Loss': 0.9094}\n",
      "{'model': 'Multi Output Classifier + Random Forest', 'F1 Score (micro)': 0.8141937104210394, 'F1 Score (macro)': 0.6246835529531835, 'Zero-One Loss': 0.88032}\n",
      "{'model': 'Multi Output Classifier + MLP', 'F1 Score (micro)': 0.7756432330526308, 'F1 Score (macro)': 0.6558157794806434, 'Zero-One Loss': 0.93152}\n",
      "{'model': 'Multi Output Classifier + KNN', 'F1 Score (micro)': 0.7842723755781146, 'F1 Score (macro)': 0.6473781796318662, 'Zero-One Loss': 0.9106}\n"
     ]
    }
   ],
   "source": [
    "# Evaluation des modèles sur les données après SVD\n",
    "evaluations = run_models(X_train_svd, y_train, X_test_svd, y_test)"
   ]
  },
  {
   "cell_type": "markdown",
   "metadata": {},
   "source": [
    "{'model': 'Classifier Chain + Random Forest', 'F1 Score (micro)': 0.814969172270081, 'F1 Score (macro)': 0.6293764324843805, 'Zero-One Loss': 0.87724}\n",
    "\n",
    "{'model': 'Classifier Chain + MLP', 'F1 Score (micro)': 0.7758129960334826, 'F1 Score (macro)': 0.6560806376044893, 'Zero-One Loss': 0.92136}\n",
    "\n",
    "{'model': 'Classifier Chain + KNN', 'F1 Score (micro)': 0.7749726851330897, 'F1 Score (macro)': 0.6307600888876275, 'Zero-One Loss': 0.9094}\n",
    "\n",
    "{'model': 'Multi Output Classifier + Random Forest', 'F1 Score (micro)': 0.8141937104210394, 'F1 Score (macro)': 0.6246835529531835, 'Zero-One Loss': 0.88032}\n",
    "\n",
    "{'model': 'Multi Output Classifier + MLP', 'F1 Score (micro)': 0.7756432330526308, 'F1 Score (macro)': 0.6558157794806434, 'Zero-One Loss': 0.93152}\n",
    "\n",
    "{'model': 'Multi Output Classifier + KNN', 'F1 Score (micro)': 0.7842723755781146, 'F1 Score (macro)': 0.6473781796318662, 'Zero-One Loss': 0.9106}"
   ]
  },
  {
   "cell_type": "markdown",
   "metadata": {},
   "source": [
    "## Interprétation\n",
    "Nous avons un modèle légérement moins performant après l'application de la SVD. Cela peut être dû à la perte d'information lors de la réduction de la dimensionnalité. En effet, les différents F1 scorres ont un peu baissé, mais la différence n'est pas significative. A l'inverse, le zero-one loss a augmenté pour la plupart des modèles, ce qui signifie que le modèle est moins performant.\n",
    "\n",
    "Cependant, la différence n'est pas significative (un différence de 0.01 dans beaucoup de cas) et la SVD a permis de réduire le temps de calcul d'une vingtaine de minutes."
   ]
  }
 ],
 "metadata": {
  "kernelspec": {
   "display_name": "Python 3",
   "language": "python",
   "name": "python3"
  },
  "language_info": {
   "codemirror_mode": {
    "name": "ipython",
    "version": 3
   },
   "file_extension": ".py",
   "mimetype": "text/x-python",
   "name": "python",
   "nbconvert_exporter": "python",
   "pygments_lexer": "ipython3",
   "version": "3.11.11"
  }
 },
 "nbformat": 4,
 "nbformat_minor": 2
}
